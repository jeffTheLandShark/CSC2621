{
 "cells": [
  {
   "cell_type": "markdown",
   "metadata": {},
   "source": [
    "# Lab 5: Hypothesis Testing"
   ]
  },
  {
   "cell_type": "code",
   "execution_count": 1,
   "metadata": {},
   "outputs": [],
   "source": [
    "import pandas as pd\n",
    "import numpy as np\n",
    "import scipy.stats as stats\n",
    "from scipy.stats import t\n",
    "from scipy.stats import ttest_ind\n",
    "import statistics\n",
    "import math\n",
    "import matplotlib.pyplot as plt\n"
   ]
  },
  {
   "cell_type": "markdown",
   "metadata": {},
   "source": [
    "## Read in and prepare the data"
   ]
  },
  {
   "cell_type": "code",
   "execution_count": 2,
   "metadata": {},
   "outputs": [
    {
     "data": {
      "text/plain": [
       "(193, 267)"
      ]
     },
     "execution_count": 2,
     "metadata": {},
     "output_type": "execute_result"
    }
   ],
   "source": [
    "who2009 = pd.read_csv(\"who2009.csv\")\n",
    "\n",
    "who2009.shape"
   ]
  },
  {
   "cell_type": "code",
   "execution_count": 3,
   "metadata": {},
   "outputs": [],
   "source": [
    "who2009 = who2009[[\"country\", \"v9\", \"v22\", \"v159\", \"v168\", \"v174\",\"v186\",\"v192\", \"v249\", \"v259\",\"regionname\"]]\n",
    "who2009 = who2009.rename(columns = {\"v9\":\"life_exp\", \n",
    "                          \"v22\":\"infant_mortality\", \n",
    "                          \"v159\":\"phys_density\", \n",
    "                          \"v168\":\"hospital_bed\", \n",
    "                          \"v174\":\"health_exp_percent_GDP\", \n",
    "                          \"v186\":\"OOP_percent_exp\",\n",
    "                          \"v192\":\"health_exp_PC\",\n",
    "                          \"v249\":\"fertility_rate\",\n",
    "                          \"v259\":\"GNI_PC\"\n",
    "                          })"
   ]
  },
  {
   "cell_type": "code",
   "execution_count": 4,
   "metadata": {},
   "outputs": [
    {
     "data": {
      "text/plain": [
       "Text(0.5, 0, 'Gross national income per capita, 2007 (PPP int. $)')"
      ]
     },
     "execution_count": 4,
     "metadata": {},
     "output_type": "execute_result"
    },
    {
     "data": {
      "image/png": "[encoded data removed]",
      "text/plain": [
       "<Figure size 640x480 with 1 Axes>"
      ]
     },
     "metadata": {},
     "output_type": "display_data"
    }
   ],
   "source": [
    "# plt.hist(who2009[\"GNI_PC\"])\n",
    "plt.hist(who2009['GNI_PC'].dropna(), bins='auto')\n",
    "# plt.plot(who2009[\"GNI_PC\"])\n",
    "plt.title('GNI Distribution')\n",
    "plt.xlabel('Gross national income per capita, 2007 (PPP int. $)')\n"
   ]
  },
  {
   "cell_type": "markdown",
   "metadata": {},
   "source": [
    "## Conduct a one-sample t-test from scratch"
   ]
  },
  {
   "cell_type": "code",
   "execution_count": 5,
   "metadata": {},
   "outputs": [],
   "source": [
    "europe_who2009 = who2009[who2009['regionname'] == \"Europe\"]\n",
    "\n",
    "# t = (mu - M) / (s / sqrt(n))\n",
    "# where s = sqrt((1/(n-1)) * summation(i=1)(n)((x_i - mu)^2))\n"
   ]
  },
  {
   "cell_type": "code",
   "execution_count": 6,
   "metadata": {},
   "outputs": [],
   "source": [
    "def summ(list, mu, n):\n",
    "    sum = 0\n",
    "    for i in range(n):\n",
    "        sub = pow(list[i] - mu, 2)\n",
    "        sum = sum + sub\n",
    "    return sum\n",
    "\n",
    "def t_test(data, M):\n",
    "    data = data.to_numpy()\n",
    "    # define basic vars\n",
    "    mu = data.mean()\n",
    "    n = len(data)\n",
    "    # sample std dev\n",
    "    summation = summ(data, mu, n)\n",
    "    s = math.sqrt((1/(n-1)) * summation)\n",
    "    # test statistic\n",
    "    num = mu - M\n",
    "    denom = s / math.sqrt(n)\n",
    "    t_stat = num / denom\n",
    "    # p-value\n",
    "    p_t = t.cdf(abs(t_stat), df=n-1)\n",
    "    p_val = 2 * (1 - p_t)\n",
    "    return t_stat, p_val"
   ]
  },
  {
   "cell_type": "code",
   "execution_count": 7,
   "metadata": {},
   "outputs": [
    {
     "name": "stdout",
     "output_type": "stream",
     "text": [
      "(9.938016169764737, 1.7605916724505732e-12) TtestResult(statistic=9.938016169764737, pvalue=1.760564922569916e-12, df=41) \n",
      "\n",
      "(1.1814424817202844, 0.24423470312189988) TtestResult(statistic=1.1814424817202844, pvalue=0.24423470312189974, df=41) \n",
      "\n",
      "life_exp of 70 test statistic compare:  0.0\n",
      "life_exp of 70 pvalue compare:  2.674988065727803e-17 \n",
      "\n",
      "life_exp of 76 test statistic compare:  0.0\n",
      "life_exp of 76 pvalue compare:  1.3877787807814457e-16\n"
     ]
    }
   ],
   "source": [
    "life_exp1 = t_test(europe_who2009[\"life_exp\"], 70)\n",
    "life_exp2 = t_test(europe_who2009[\"life_exp\"], 76)\n",
    "life_exp1b = stats.ttest_1samp(europe_who2009[\"life_exp\"], 70)\n",
    "life_exp2b =stats.ttest_1samp(europe_who2009[\"life_exp\"], 76)\n",
    "print(life_exp1,life_exp1b,'\\n')\n",
    "print(life_exp2, life_exp2b,'\\n')\n",
    "print(\"life_exp of 70 test statistic compare: \",life_exp1[0]-life_exp1b.statistic)\n",
    "print(\"life_exp of 70 pvalue compare: \",life_exp1[1]-life_exp1b.pvalue,'\\n')\n",
    "print(\"life_exp of 76 test statistic compare: \",life_exp2[0]-life_exp2b.statistic)\n",
    "print(\"life_exp of 76 pvalue compare: \",life_exp2[1]-life_exp2b.pvalue)"
   ]
  },
  {
   "cell_type": "markdown",
   "metadata": {},
   "source": [
    "Answer the following in your writeup:\n",
    "(a) How do you choose the fixed number M in this test?\n",
    "(b) What are the null and alternative hypotheses for the one-sample t-test conducted\n",
    "here?\n",
    "(c) Explain the equation for the p-value. What is it doing?\n",
    "(d) Is life expectancy in Europe significantly different from 70 years or 76 years? How\n",
    "do you know?\n",
    "(e) Did your function produce the same results as the built in version?"
   ]
  },
  {
   "cell_type": "markdown",
   "metadata": {},
   "source": [
    "## Conduct a two-sample t-test from scratch"
   ]
  },
  {
   "cell_type": "code",
   "execution_count": 8,
   "metadata": {},
   "outputs": [],
   "source": [
    "asia_who2009 = who2009[who2009['regionname'] == \"Asia\"]"
   ]
  },
  {
   "cell_type": "code",
   "execution_count": 9,
   "metadata": {},
   "outputs": [],
   "source": [
    "def t_test_2samp(data1, data2):\n",
    "    # define basic vars\n",
    "    mu1, mu2 = data1.mean(), data2.mean()\n",
    "    n1, n2 = len(data1), len(data2)\n",
    "\n",
    "    # sample std dev\n",
    "    std1, std2 = data1.std(ddof=1), data2.std(ddof=1)\n",
    "    # test statistic\n",
    "    num = (mu1 - mu2)\n",
    "    denom = math.sqrt((std1 ** 2 / n1) + (std2 ** 2 / n2))\n",
    "    t_stat = num / denom\n",
    "\n",
    "    free = (std1 ** 2 / n1 + std2 ** 2 / n2) ** 2 / (\n",
    "        ((std1**4)/((n1**2)*(n1-1))) + ((std2**4)/((n2**2)*(n2-1)))\n",
    "        )\n",
    "\n",
    "    # p-value\n",
    "    p_t = t.cdf(abs(t_stat), df=free)\n",
    "    p = 2 * (1 - p_t)\n",
    "    return t_stat, p\n"
   ]
  },
  {
   "cell_type": "code",
   "execution_count": 10,
   "metadata": {},
   "outputs": [
    {
     "name": "stdout",
     "output_type": "stream",
     "text": [
      "My results:  (5.884174172667128, 1.0064936417641945e-07) \n",
      "\n",
      "Built in:  Ttest_indResult(statistic=5.7264993312056856, pvalue=1.4371220565085468e-07) \n",
      "\n",
      "p-val diff: -4.306284147443522e-08 \n",
      "\n",
      "test stat diff:  0.15767484146144284\n"
     ]
    }
   ],
   "source": [
    "my_results = t_test_2samp(europe_who2009['life_exp'], asia_who2009['life_exp'])\n",
    "built_in_results = ttest_ind(europe_who2009['life_exp'], asia_who2009['life_exp'])\n",
    "print(\"My results: \",my_results,'\\n')\n",
    "print(\"Built in: \",built_in_results,'\\n')\n",
    "print(\"p-val diff:\",my_results[1]-built_in_results.pvalue,'\\n')\n",
    "print(\"test stat diff: \",my_results[0]-built_in_results.statistic)\n"
   ]
  },
  {
   "cell_type": "markdown",
   "metadata": {},
   "source": [
    "## Pearson’s Correlation from scratch"
   ]
  },
  {
   "cell_type": "code",
   "execution_count": 11,
   "metadata": {},
   "outputs": [],
   "source": [
    "def pearson_corr(data, var1, var2):\n",
    "    n = len(data)\n",
    "    print(n)\n",
    "    mu1, mu2 = data[var1].mean(), data[var2].mean()\n",
    "    num = sum((data[var1] - mu1) * (data[var2] - mu2))\n",
    "    denom = ((sum((data[var1] - mu1) ** 2)) ** 0.5) * ((sum((data[var2] - mu2) ** 2)) ** 0.5)\n",
    "    \n",
    "    r = num / denom\n",
    "    test_stat = r * math.sqrt((n - 2) / (1 - r ** 2))\n",
    "    p_cdf = t.cdf(abs(test_stat), df=(n - 2))\n",
    "    p_value = 2 * (1 - p_cdf)\n",
    "    return p_value, test_stat, r"
   ]
  },
  {
   "cell_type": "code",
   "execution_count": 12,
   "metadata": {},
   "outputs": [
    {
     "name": "stdout",
     "output_type": "stream",
     "text": [
      "193\n",
      "My results:  (0.0, -33.78040820171774, -0.9255371904433332) \n",
      "\n",
      "Built in:  LinregressResult(slope=-3.1186864983548186, intercept=247.02571151792557, rvalue=-0.9255371904433327, pvalue=1.733832757295465e-82, stderr=0.09232234494419889, intercept_stderr=6.333447860796562) \n",
      "\n",
      "tstat for built in calc'd: -33.78040820171762\n",
      "p-val diff: -1.733832757295465e-82 \n",
      "\n",
      "r-val diff:  -4.440892098500626e-16\n",
      "test stat diff:  -1.2079226507921703e-13\n"
     ]
    }
   ],
   "source": [
    "my_comp = pearson_corr(who2009, \"life_exp\", \"infant_mortality\")\n",
    "built_in_comp = stats.linregress(who2009['life_exp'], who2009['infant_mortality'])\n",
    "rval = built_in_comp.rvalue\n",
    "tstat = rval / ((1 - rval ** 2) / (len(who2009) - 2)) ** 0.5\n",
    "print(\"My results: \",my_comp,'\\n')\n",
    "print(\"Built in: \",built_in_comp,'\\n')\n",
    "print(\"tstat for built in calc'd:\", tstat)\n",
    "print(\"p-val diff:\",my_comp[0]-built_in_comp.pvalue,'\\n')\n",
    "print(\"r-val diff: \",my_comp[2]-built_in_comp.rvalue)\n",
    "print(\"test stat diff: \",my_comp[1]-tstat)\n",
    "\n"
   ]
  },
  {
   "cell_type": "code",
   "execution_count": null,
   "metadata": {},
   "outputs": [],
   "source": []
  }
 ],
 "metadata": {
  "kernelspec": {
   "display_name": "Python 3 (ipykernel)",
   "language": "python",
   "name": "python3"
  },
  "language_info": {
   "codemirror_mode": {
    "name": "ipython",
    "version": 3
   },
   "file_extension": ".py",
   "mimetype": "text/x-python",
   "name": "python",
   "nbconvert_exporter": "python",
   "pygments_lexer": "ipython3",
   "version": "3.10.6"
  }
 },
 "nbformat": 4,
 "nbformat_minor": 2
}
