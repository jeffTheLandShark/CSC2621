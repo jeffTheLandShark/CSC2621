{
 "cells": [
  {
   "cell_type": "code",
   "execution_count": 2,
   "metadata": {},
   "outputs": [],
   "source": [
    "from sklearn.model_selection import train_test_split, KFold, StratifiedKFold\n",
    "import pandas as pd"
   ]
  },
  {
   "cell_type": "code",
   "execution_count": 3,
   "metadata": {},
   "outputs": [],
   "source": [
    "# load in data\n",
    "data = pd.read_csv('some_data.csv')"
   ]
  },
  {
   "cell_type": "code",
   "execution_count": 10,
   "metadata": {},
   "outputs": [
    {
     "name": "stdout",
     "output_type": "stream",
     "text": [
      "0.14644351464435146 0.25\n",
      "(478, 3) (120, 3)\n",
      "0.17573221757322174 0.13333333333333333\n",
      "(478, 3) (120, 3)\n",
      "0.1799163179916318 0.11666666666666667\n",
      "(478, 3) (120, 3)\n",
      "0.16701461377870563 0.16806722689075632\n",
      "(479, 3) (119, 3)\n",
      "0.16701461377870563 0.16806722689075632\n",
      "(479, 3) (119, 3)\n"
     ]
    }
   ],
   "source": [
    "kf = KFold(n_splits=5, shuffle=True, random_state=8)\n",
    "kf_split = kf.split(data)\n",
    "for tr_index, te_index in kf_split:\n",
    "    # calculate ratio of 1s in train and test\n",
    "    print((data[\"y\"].iloc[tr_index] == 1).mean(), (data[\"y\"].iloc[te_index] == 1).mean())\n",
    "    print(data.iloc[tr_index].shape, data.iloc[te_index].shape)\n"
   ]
  },
  {
   "cell_type": "code",
   "execution_count": null,
   "metadata": {},
   "outputs": [],
   "source": [
    "# use stratified k fold to perform a 5 fold CV split, shuffle=True, random_state=8\n",
    "\n",
    "skf = StratifiedKFold(n_splits=5, shuffle=True, random_state=8)\n",
    "for train_index, test_index in skf.split(data):\n",
    "    print(\"TRAIN:\", train_index, \"TEST:\", test_index)\n",
    "    X_train, X_test = data.iloc[train_index], data.iloc[test_index]\n",
    "    print(\"TRAIN FRACTION OF 1s:\", X_train['target'].mean())\n",
    "    print(\"TEST FRACTION OF 1s:\", X_test['target'].mean())"
   ]
  }
 ],
 "metadata": {
  "kernelspec": {
   "display_name": "Python 3",
   "language": "python",
   "name": "python3"
  },
  "language_info": {
   "codemirror_mode": {
    "name": "ipython",
    "version": 3
   },
   "file_extension": ".py",
   "mimetype": "text/x-python",
   "name": "python",
   "nbconvert_exporter": "python",
   "pygments_lexer": "ipython3",
   "version": "3.10.11"
  }
 },
 "nbformat": 4,
 "nbformat_minor": 2
}
